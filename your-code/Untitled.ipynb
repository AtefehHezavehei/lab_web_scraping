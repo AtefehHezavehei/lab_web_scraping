{
 "cells": [
  {
   "cell_type": "code",
   "execution_count": 85,
   "id": "d0317347",
   "metadata": {},
   "outputs": [],
   "source": [
    "import itertools \n",
    "import collections"
   ]
  },
  {
   "cell_type": "code",
   "execution_count": 102,
   "id": "c1a39809",
   "metadata": {},
   "outputs": [],
   "source": [
    "a={\"flour\": 500, \"sugar\": 200, \"eggs\": 1}\n",
    "b= {\"flour\": 1200, \"sugar\": 1200, \"eggs\": 5, \"milk\": 200}"
   ]
  },
  {
   "cell_type": "code",
   "execution_count": 103,
   "id": "e86e5a95",
   "metadata": {},
   "outputs": [
    {
     "data": {
      "text/plain": [
       "dict"
      ]
     },
     "execution_count": 103,
     "metadata": {},
     "output_type": "execute_result"
    }
   ],
   "source": [
    "type(a)"
   ]
  },
  {
   "cell_type": "code",
   "execution_count": 97,
   "id": "06f26a74",
   "metadata": {},
   "outputs": [
    {
     "ename": "SyntaxError",
     "evalue": "invalid syntax (<ipython-input-97-727e6d1ad1a8>, line 6)",
     "output_type": "error",
     "traceback": [
      "\u001b[1;36m  File \u001b[1;32m\"<ipython-input-97-727e6d1ad1a8>\"\u001b[1;36m, line \u001b[1;32m6\u001b[0m\n\u001b[1;33m    return Cdict[key] +=val\u001b[0m\n\u001b[1;37m                      ^\u001b[0m\n\u001b[1;31mSyntaxError\u001b[0m\u001b[1;31m:\u001b[0m invalid syntax\n"
     ]
    }
   ],
   "source": [
    "def cakes(rec,ing):\n",
    "    reci=dict(rec)\n",
    "    ingre=dict(ing)\n",
    "    Cdict = collections.defaultdict(int)\n",
    "    for key, val in itertools.chain(reci.items(), ingre.items()):\n",
    "        return Cdict[key] +=val"
   ]
  },
  {
   "cell_type": "code",
   "execution_count": 94,
   "id": "4f037e59",
   "metadata": {},
   "outputs": [
    {
     "data": {
      "text/plain": [
       "0"
      ]
     },
     "execution_count": 94,
     "metadata": {},
     "output_type": "execute_result"
    }
   ],
   "source": [
    "cakes(a,b)"
   ]
  },
  {
   "cell_type": "code",
   "execution_count": null,
   "id": "4c301859",
   "metadata": {},
   "outputs": [],
   "source": []
  }
 ],
 "metadata": {
  "kernelspec": {
   "display_name": "Python 3",
   "language": "python",
   "name": "python3"
  },
  "language_info": {
   "codemirror_mode": {
    "name": "ipython",
    "version": 3
   },
   "file_extension": ".py",
   "mimetype": "text/x-python",
   "name": "python",
   "nbconvert_exporter": "python",
   "pygments_lexer": "ipython3",
   "version": "3.9.2"
  }
 },
 "nbformat": 4,
 "nbformat_minor": 5
}
