{
 "cells": [
  {
   "cell_type": "code",
   "execution_count": 15,
   "id": "ec21965e",
   "metadata": {},
   "outputs": [],
   "source": [
    "a=\"img alt is a featured article\""
   ]
  },
  {
   "cell_type": "code",
   "execution_count": 16,
   "id": "fc855b0b",
   "metadata": {},
   "outputs": [],
   "source": [
    "split_string = a.split(\"is\")[0]"
   ]
  },
  {
   "cell_type": "code",
   "execution_count": 17,
   "id": "51f2268d",
   "metadata": {},
   "outputs": [
    {
     "data": {
      "text/plain": [
       "'img alt '"
      ]
     },
     "execution_count": 17,
     "metadata": {},
     "output_type": "execute_result"
    }
   ],
   "source": [
    "split_string"
   ]
  },
  {
   "cell_type": "code",
   "execution_count": null,
   "id": "3d629d88",
   "metadata": {},
   "outputs": [],
   "source": []
  }
 ],
 "metadata": {
  "kernelspec": {
   "display_name": "Python 3",
   "language": "python",
   "name": "python3"
  },
  "language_info": {
   "codemirror_mode": {
    "name": "ipython",
    "version": 3
   },
   "file_extension": ".py",
   "mimetype": "text/x-python",
   "name": "python",
   "nbconvert_exporter": "python",
   "pygments_lexer": "ipython3",
   "version": "3.9.2"
  }
 },
 "nbformat": 4,
 "nbformat_minor": 5
}
